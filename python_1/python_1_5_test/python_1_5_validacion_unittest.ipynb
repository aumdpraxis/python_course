{
 "cells": [
  {
   "cell_type": "markdown",
   "metadata": {},
   "source": [
    "# Validacion de ejecucion con unittest"
   ]
  },
  {
   "cell_type": "markdown",
   "metadata": {},
   "source": [
    "## El código "
   ]
  },
  {
   "cell_type": "code",
   "execution_count": 1,
   "metadata": {
    "tags": []
   },
   "outputs": [
    {
     "name": "stdout",
     "output_type": "stream",
     "text": [
      "[1, 2, 3, 5, 7, 11, 13, 17, 19, 23]\n"
     ]
    }
   ],
   "source": [
    "def is_primo(numero):\n",
    "    temp_numero = numero\n",
    "    while(temp_numero>0):\n",
    "        if(temp_numero!=numero and temp_numero!=1):\n",
    "            if (numero%temp_numero==0):\n",
    "                return False\n",
    "        temp_numero-=1\n",
    "    return True \n",
    "\n",
    "def get_next_primo(current):\n",
    "    temp_numero= current+1\n",
    "    while True:\n",
    "        if(is_primo(temp_numero)):\n",
    "            return temp_numero\n",
    "            break\n",
    "        temp_numero +=1\n",
    "\n",
    "def primos(numero):\n",
    "    result = []\n",
    "    last_primo = 0\n",
    "    for num in range(numero):\n",
    "        last_primo = get_next_primo(last_primo)\n",
    "        result.append(last_primo)\n",
    "    return result\n",
    "\n",
    "if __name__ == \"__main__\":\n",
    "    primos_n = primos(10)\n",
    "    print(primos_n)\n",
    "        "
   ]
  },
  {
   "cell_type": "markdown",
   "metadata": {},
   "source": [
    "## La validación"
   ]
  },
  {
   "cell_type": "code",
   "execution_count": 5,
   "metadata": {},
   "outputs": [],
   "source": [
    "import unittest ## pip install unittest2\n",
    "class TestProc(unittest.TestCase):\n",
    "    def test_primo(self):\n",
    "        self.assertEqual(primos(10),[1, 2, 3, 5, 7, 11, 13, 17, 19, 23])\n",
    "        \n",
    "# if __name__ == \"__main__\":\n",
    "#     unittest.main()"
   ]
  },
  {
   "cell_type": "markdown",
   "metadata": {},
   "source": [
    "    Se muestra la sencilles con la que se puede automatizar la verificación  del funcionamiento de nuestro \n",
    "    código, que aunque hay herramientas mucho más robustas para dicha tarea, este paquete nos provee de una\n",
    "    facil e inmediata implementación.\n",
    "______________\n",
    "### Resultado de ejecución válida\n",
    "\n",
    "    .....\n",
    "    ----------------------------------------------------------------------\n",
    "    Ran 5 tests in 0.001s\n",
    "\n",
    "    OK\n",
    "______________\n",
    "### Resultado de ejecución no exitosa\n",
    "\n",
    "    F...\n",
    "    ======================================================================\n",
    "    FAIL: test_primo (__main__.TestProc)\n",
    "    ----------------------------------------------------------------------\n",
    "    Traceback (most recent call last):\n",
    "    File \"unittest_example.py\", line 22, in test_primo\n",
    "    self.assertEqual(primos(10),[1, 2, 3, 5, 7, 11, 13, 17, 19, 29])\n",
    "    AssertionError: Lists differ: [1, 2, 3, 5, 7, 11, 13, 17, 19, 23] != [1, 2, 3, 5, 7, 11, 13, 17, 19, 29]\n",
    "\n",
    "    First differing element 9:\n",
    "    23\n",
    "    29\n",
    "\n",
    "    - [1, 2, 3, 5, 7, 11, 13, 17, 19, 23]\n",
    "    ?                                  ^\n",
    "\n",
    "    + [1, 2, 3, 5, 7, 11, 13, 17, 19, 29]\n",
    "    ?                                  ^\n",
    "\n",
    "\n",
    "    ----------------------------------------------------------------------\n",
    "    Ran 4 tests in 0.002s\n",
    "\n",
    "    FAILED (failures=1)"
   ]
  },
  {
   "cell_type": "code",
   "execution_count": null,
   "metadata": {},
   "outputs": [],
   "source": []
  }
 ],
 "metadata": {
  "kernelspec": {
   "display_name": "Python 3",
   "language": "python",
   "name": "python3"
  },
  "language_info": {
   "codemirror_mode": {
    "name": "ipython",
    "version": 3
   },
   "file_extension": ".py",
   "mimetype": "text/x-python",
   "name": "python",
   "nbconvert_exporter": "python",
   "pygments_lexer": "ipython3",
   "version": "3.7.4"
  }
 },
 "nbformat": 4,
 "nbformat_minor": 4
}
