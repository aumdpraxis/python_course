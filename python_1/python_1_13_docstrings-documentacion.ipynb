{
 "cells": [
  {
   "cell_type": "markdown",
   "metadata": {},
   "source": [
    "# DOC Strings"
   ]
  },
  {
   "cell_type": "markdown",
   "metadata": {},
   "source": [
    "## Funciones"
   ]
  },
  {
   "cell_type": "code",
   "execution_count": 2,
   "metadata": {},
   "outputs": [],
   "source": [
    "def function(x:str,n=0,b=[10])->None:\n",
    "    \"\"\"La función no hace nada en particular\n",
    "    Parameters\n",
    "    ----------\n",
    "        x: str\n",
    "            nombre de alguien\n",
    "            \n",
    "        n: int\n",
    "            edad\n",
    "            - default: 0\n",
    "            \n",
    "        b: list[int]\n",
    "            lista de enteros, calificaciones de cursos\n",
    "            - default: [10]\n",
    "    Returns\n",
    "    -------\n",
    "        >None<\n",
    "    \"\"\"\n",
    "    pass"
   ]
  },
  {
   "cell_type": "markdown",
   "metadata": {},
   "source": [
    "## Clases"
   ]
  },
  {
   "cell_type": "code",
   "execution_count": null,
   "metadata": {},
   "outputs": [],
   "source": [
    "class temp_class:\n",
    "    \"\"\"La clase no hace nada en particular\n",
    "    Attributes\n",
    "    ----------\n",
    "        []\n",
    "    Methods\n",
    "    -------\n",
    "        []\n",
    "    \"\"\"\n",
    "    def __init__(self):\n",
    "        pass"
   ]
  },
  {
   "cell_type": "markdown",
   "metadata": {},
   "source": [
    "## Módulos"
   ]
  },
  {
   "cell_type": "code",
   "execution_count": 3,
   "metadata": {},
   "outputs": [],
   "source": [
    "\"\"\" El módulo no hace nada en particular\n",
    "Classes\n",
    "-------\n",
    "    temp_class:\n",
    "        clase que no hace nada\n",
    "Functions\n",
    "---------\n",
    "    temp_function:\n",
    "        funcion que no hace nada\n",
    "        args:\n",
    "            x,n,b\n",
    "\"\"\"\n",
    "def function(x:str,n=0,b=[10])->None:\n",
    "    \"\"\"La función no hace nada en particular\n",
    "    Parameters\n",
    "    ----------\n",
    "        x: str\n",
    "            nombre de alguien\n",
    "            \n",
    "        n: int\n",
    "            edad\n",
    "            - default: 0\n",
    "            \n",
    "        b: list[int]\n",
    "            lista de enteros, calificaciones de cursos\n",
    "            - default: [10]\n",
    "    Returns\n",
    "    -------\n",
    "        >None<\n",
    "    \"\"\"\n",
    "    pass\n",
    "\n",
    "class temp_class:\n",
    "    \"\"\"La clase no hace nada en particular\n",
    "    Attributes\n",
    "    ----------\n",
    "        []\n",
    "    Methods\n",
    "    -------\n",
    "        []\n",
    "    \"\"\"\n",
    "    def __init__(self):\n",
    "        pass"
   ]
  },
  {
   "cell_type": "code",
   "execution_count": 4,
   "metadata": {},
   "outputs": [
    {
     "data": {
      "text/plain": [
       "'https://numpydoc.readthedocs.io/en/latest/format.html'"
      ]
     },
     "execution_count": 4,
     "metadata": {},
     "output_type": "execute_result"
    }
   ],
   "source": [
    "##\n",
    "##   EL ESTNDAR USADO ES numpydoc v1.2.dev0\n",
    "##\n",
    "'https://numpydoc.readthedocs.io/en/latest/format.html'"
   ]
  },
  {
   "cell_type": "code",
   "execution_count": null,
   "metadata": {},
   "outputs": [],
   "source": []
  }
 ],
 "metadata": {
  "kernelspec": {
   "display_name": "Python 3",
   "language": "python",
   "name": "python3"
  },
  "language_info": {
   "codemirror_mode": {
    "name": "ipython",
    "version": 3
   },
   "file_extension": ".py",
   "mimetype": "text/x-python",
   "name": "python",
   "nbconvert_exporter": "python",
   "pygments_lexer": "ipython3",
   "version": "3.7.4"
  }
 },
 "nbformat": 4,
 "nbformat_minor": 4
}
