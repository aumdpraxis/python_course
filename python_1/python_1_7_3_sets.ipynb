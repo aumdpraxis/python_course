{
 "cells": [
  {
   "cell_type": "markdown",
   "metadata": {},
   "source": [
    "# Sets"
   ]
  },
  {
   "cell_type": "markdown",
   "metadata": {},
   "source": [
    "## declaracion"
   ]
  },
  {
   "cell_type": "code",
   "execution_count": 3,
   "metadata": {},
   "outputs": [
    {
     "name": "stdout",
     "output_type": "stream",
     "text": [
      "{'fresa', 'pera', 'manzana', 'plátano'}\n",
      "{'fresa', 'pera', 'manzana', 'plátano'}\n"
     ]
    }
   ],
   "source": [
    "a= {'manzana','pera','plátano','fresa'}\n",
    "print(a)\n",
    "b= set(('manzana','pera','plátano','fresa',))\n",
    "print(a)\n"
   ]
  },
  {
   "cell_type": "markdown",
   "metadata": {},
   "source": [
    "## operaciones"
   ]
  },
  {
   "cell_type": "code",
   "execution_count": 10,
   "metadata": {},
   "outputs": [
    {
     "name": "stdout",
     "output_type": "stream",
     "text": [
      "{'c', 'i', 'm', 'u', 'e', 'l', 'r'}\n",
      "{'i', 'u', 'a', 'e', 'o'}\n",
      "{'c', 'm', 'l', 'r', 'g'}\n",
      "{'y', 'x', 'i', 'z', 'm', 'u', 'a', 'e', 'r', 'g', 'c', 'l', 'o', 'v'}\n",
      "{'y', 'x', 'c', 'z', 'g', 'm', 'r', 'l', 'v'}\n",
      "True\n",
      "True\n"
     ]
    }
   ],
   "source": [
    "a= set('murcielago')\n",
    "b= set('aeiouvxyz')\n",
    "c= {x for x in 'murcielago' if x not in 'ago'}\n",
    "print(c)\n",
    "print(a&b)\n",
    "print(a-b)\n",
    "print(a|b)\n",
    "print(a^b)\n",
    "print('a'in a)\n",
    "print('h'not in b)"
   ]
  },
  {
   "cell_type": "code",
   "execution_count": null,
   "metadata": {},
   "outputs": [],
   "source": []
  }
 ],
 "metadata": {
  "kernelspec": {
   "display_name": "Python 3",
   "language": "python",
   "name": "python3"
  },
  "language_info": {
   "codemirror_mode": {
    "name": "ipython",
    "version": 3
   },
   "file_extension": ".py",
   "mimetype": "text/x-python",
   "name": "python",
   "nbconvert_exporter": "python",
   "pygments_lexer": "ipython3",
   "version": "3.7.4"
  }
 },
 "nbformat": 4,
 "nbformat_minor": 4
}
