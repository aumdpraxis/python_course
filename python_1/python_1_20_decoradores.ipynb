{
 "cells": [
  {
   "cell_type": "markdown",
   "metadata": {},
   "source": [
    "# Decoradores\n"
   ]
  },
  {
   "cell_type": "markdown",
   "metadata": {},
   "source": [
    "## funciones"
   ]
  },
  {
   "cell_type": "code",
   "execution_count": 82,
   "metadata": {},
   "outputs": [
    {
     "name": "stdout",
     "output_type": "stream",
     "text": [
      "0\n",
      "1\n",
      "1\n",
      "2\n",
      "3\n",
      "5\n",
      "8\n",
      "13\n",
      "21\n",
      "34\n",
      "55\n",
      "89\n",
      "fib, execution time: 0.0034265518188476562\n",
      "last number :144\n"
     ]
    }
   ],
   "source": [
    "import time\n",
    "import functools\n",
    "\n",
    "def func_timer(func):\n",
    "    @functools.wraps(func)\n",
    "    def wrapper(*args,**kwargs):\n",
    "        start = time.time()\n",
    "        res = func(*args,**kwargs)\n",
    "        print(f\"{func.__name__}, execution time: {time.time()-start}\")\n",
    "        return res\n",
    "    return wrapper\n",
    "\n",
    "def debug_message(func):\n",
    "    @functools.wraps(func)\n",
    "    def wrapper(*args,**kwargs):\n",
    "        print(\"DEBUGGER\")\n",
    "        return func(*args,**kwargs)\n",
    "    return wrapper\n",
    "\n",
    "def fib(n):\n",
    "    a,b=0,1\n",
    "    while(a<n):\n",
    "        print(a)\n",
    "        a,b=b,b+a\n",
    "    return a\n",
    "        \n",
    "fib=func_timer(fib)\n",
    "print(f\"last number :{fib(100)}\")"
   ]
  },
  {
   "cell_type": "code",
   "execution_count": 83,
   "metadata": {},
   "outputs": [
    {
     "name": "stdout",
     "output_type": "stream",
     "text": [
      "0\n",
      "1\n",
      "1\n",
      "2\n",
      "3\n",
      "5\n",
      "8\n",
      "13\n",
      "21\n",
      "34\n",
      "55\n",
      "89\n",
      "fib, execution time: 0.0027360916137695312\n",
      "last number :144\n"
     ]
    }
   ],
   "source": [
    "@func_timer\n",
    "def fib(n):\n",
    "    a,b=0,1\n",
    "    while(a<n):\n",
    "        print(a)\n",
    "        a,b=b,b+a\n",
    "    return a\n",
    "        \n",
    "print(f\"last number :{fib(100)}\")\n"
   ]
  },
  {
   "cell_type": "markdown",
   "metadata": {},
   "source": [
    "## plugin architecture"
   ]
  },
  {
   "cell_type": "code",
   "execution_count": 84,
   "metadata": {},
   "outputs": [
    {
     "name": "stdout",
     "output_type": "stream",
     "text": [
      "{'add': <function add at 0x7f265c38ef80>, 'sub': <function sub at 0x7f265c38ee60>}\n",
      "14\n",
      "-4\n"
     ]
    }
   ],
   "source": [
    "import functools\n",
    "PLUGINS = {}\n",
    "def register(func:callable)->callable:\n",
    "    PLUGINS[func.__name__]=func\n",
    "    return func\n",
    "\n",
    "@register\n",
    "def add(a,b):\n",
    "    return a+b\n",
    "\n",
    "@register\n",
    "def sub(a,b):\n",
    "    return a-b\n",
    "\n",
    "print(PLUGINS)\n",
    "print(PLUGINS['add'](5,9))\n",
    "print(PLUGINS['sub'](5,9))"
   ]
  },
  {
   "cell_type": "markdown",
   "metadata": {},
   "source": [
    "## Clases"
   ]
  },
  {
   "cell_type": "code",
   "execution_count": 85,
   "metadata": {},
   "outputs": [],
   "source": [
    "class operations:\n",
    "    __value=0\n",
    "    \n",
    "    @property\n",
    "    def value(self):\n",
    "        \"\"\"GETTER\"\"\"\n",
    "        return self.__value\n",
    "    \n",
    "    @value.setter\n",
    "    def radius(self,_value):\n",
    "        self.__value=_value\n",
    "        \n",
    "    @classmethod\n",
    "    def add(self,a,b):\n",
    "        return a+b\n",
    "    \n",
    "    @staticmethod\n",
    "    def sub(a,b):\n",
    "        return a-b"
   ]
  },
  {
   "cell_type": "code",
   "execution_count": 89,
   "metadata": {},
   "outputs": [
    {
     "name": "stdout",
     "output_type": "stream",
     "text": [
      "7\n",
      "-1\n"
     ]
    }
   ],
   "source": [
    "print(operations.add(3,4))\n",
    "print(operations.sub(3,4))"
   ]
  },
  {
   "cell_type": "markdown",
   "metadata": {},
   "source": [
    "## Decoradores anidados"
   ]
  },
  {
   "cell_type": "code",
   "execution_count": 90,
   "metadata": {},
   "outputs": [
    {
     "name": "stdout",
     "output_type": "stream",
     "text": [
      "DEBUGGER\n",
      "mul, execution time: 2.384185791015625e-06\n"
     ]
    },
    {
     "data": {
      "text/plain": [
       "54"
      ]
     },
     "execution_count": 90,
     "metadata": {},
     "output_type": "execute_result"
    }
   ],
   "source": [
    "@debug_message\n",
    "@func_timer\n",
    "def mul(a,b):\n",
    "    return a*b\n",
    "\n",
    "mul(6,9)"
   ]
  },
  {
   "cell_type": "code",
   "execution_count": 96,
   "metadata": {},
   "outputs": [
    {
     "name": "stdout",
     "output_type": "stream",
     "text": [
      "DEBUGGER\n",
      "index:0 MESSAGE - \n",
      "index:1 MESSAGE - \n",
      "index:2 MESSAGE - \n",
      "index:3 MESSAGE - \n",
      "index:4 MESSAGE - \n",
      "index:5 MESSAGE - \n",
      "index:6 MESSAGE - \n",
      "index:7 MESSAGE - \n",
      "index:8 MESSAGE - \n",
      "index:9 MESSAGE - \n",
      "wrapper, execution time: 0.00046825408935546875\n"
     ]
    }
   ],
   "source": [
    "def repeat(*d_args,**d_kwargs):\n",
    "    def decorator(func):\n",
    "        def wrapper(*args,**kwargs):\n",
    "            for i in range(d_args[0]):\n",
    "                print(f\"index:{i}\",end=' ')\n",
    "                func(*args,**kwargs)\n",
    "            return None\n",
    "        return wrapper\n",
    "    return decorator\n",
    "\n",
    "@debug_message\n",
    "@func_timer\n",
    "@repeat(10)\n",
    "def message():\n",
    "    print(\"MESSAGE - \")\n",
    "    \n",
    "message()"
   ]
  },
  {
   "cell_type": "code",
   "execution_count": null,
   "metadata": {},
   "outputs": [],
   "source": []
  }
 ],
 "metadata": {
  "kernelspec": {
   "display_name": "Python 3",
   "language": "python",
   "name": "python3"
  },
  "language_info": {
   "codemirror_mode": {
    "name": "ipython",
    "version": 3
   },
   "file_extension": ".py",
   "mimetype": "text/x-python",
   "name": "python",
   "nbconvert_exporter": "python",
   "pygments_lexer": "ipython3",
   "version": "3.7.4"
  }
 },
 "nbformat": 4,
 "nbformat_minor": 4
}
