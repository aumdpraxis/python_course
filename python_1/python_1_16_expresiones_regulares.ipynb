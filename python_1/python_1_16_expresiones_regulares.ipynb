{
 "metadata": {
  "language_info": {
   "codemirror_mode": {
    "name": "ipython",
    "version": 3
   },
   "file_extension": ".py",
   "mimetype": "text/x-python",
   "name": "python",
   "nbconvert_exporter": "python",
   "pygments_lexer": "ipython3",
   "version": 3
  },
  "orig_nbformat": 2,
  "kernelspec": {
   "name": "python_defaultSpec_1596503577998",
   "display_name": "Python 3.6.8 64-bit"
  }
 },
 "nbformat": 4,
 "nbformat_minor": 2,
 "cells": [
  {
   "cell_type": "code",
   "execution_count": 7,
   "metadata": {
    "tags": []
   },
   "outputs": [
    {
     "output_type": "stream",
     "name": "stdout",
     "text": "MATCH SIMPLE STRINGS\n<_sre.SRE_Match object; span=(0, 18), match='aumd@praxis.com.mx'>\n<_sre.SRE_Match object; span=(0, 22), match='david.planta@gmail.com'>\n<_sre.SRE_Match object; span=(0, 26), match='pero_gato_loco@outlook.com'>\n\n\nMATCH STRINGS\nNone\nNone\n<_sre.SRE_Match object; span=(0, 26), match='pero_gato_loco@outlook.com'>\n"
    }
   ],
   "source": [
    "import re\n",
    "\n",
    "email_pattern=\"\"\"(?:[a-z0-9!#$%&'*+/=?^_`{|}~-]+(?:\\.[a-z0-9!#$%&'*+/=?^_`{|}~-]+)*|\"(?:[\\x01-\\x08\\x0b\\x0c\\x0e-\\x1f\\x21\\x23-\\x5b\\x5d-\\x7f]|\\\\[\\x01-\\x09\\x0b\\x0c\\x0e-\\x7f])*\")@(?:(?:[a-z0-9](?:[a-z0-9-]*[a-z0-9])?\\.)+[a-z0-9](?:[a-z0-9-]*[a-z0-9])?|\\[(?:(?:25[0-5]|2[0-4][0-9]|[01]?[0-9][0-9]?)\\.){3}(?:25[0-5]|2[0-4][0-9]|[01]?[0-9][0-9]?|[a-z0-9-]*[a-z0-9]:(?:[\\x01-\\x08\\x0b\\x0c\\x0e-\\x1f\\x21-\\x5a\\x53-\\x7f]|\\\\[\\x01-\\x09\\x0b\\x0c\\x0e-\\x7f])+)\\])\"\"\" \n",
    "\n",
    "matcher=  re.compile(email_pattern)\n",
    "\n",
    "simple_strings=[\n",
    "    'aumd@praxis.com.mx',\n",
    "    'david.planta@gmail.com',\n",
    "    'pero_gato_loco@outlook.com'\n",
    "]\n",
    "\n",
    "strings=[\n",
    "    ' hola a todos mi correo es:aumd@praxis.com.mx, o también pueden encontrarme en david.ur@gmail.com',\n",
    "    ' puedo agradecer especialmente a david, cuyo correo es david.planta@gmail.com',\n",
    "    'pero_gato_loco@outlook.com era mi correo en la infancia'\n",
    "]\n",
    "\n",
    "print(\"MATCH SIMPLE STRINGS\")\n",
    "for item in simple_strings:\n",
    "    print(matcher.match(item))\n",
    "\n",
    "print(\"\\n\\nMATCH STRINGS\")\n",
    "for item in strings:\n",
    "    print(matcher.match(item))"
   ]
  },
  {
   "cell_type": "code",
   "execution_count": 11,
   "metadata": {
    "tags": []
   },
   "outputs": [
    {
     "output_type": "stream",
     "name": "stdout",
     "text": "aumd@praxis.com.mx\ndavid.planta@gmail.com\npero_gato_loco@outlook.com\n"
    }
   ],
   "source": [
    "for item in strings:\n",
    "    matches= re.search(email_pattern,item)\n",
    "    print(matches.group())"
   ]
  },
  {
   "cell_type": "code",
   "execution_count": 13,
   "metadata": {
    "tags": []
   },
   "outputs": [
    {
     "output_type": "stream",
     "name": "stdout",
     "text": "['aumd@praxis.com.mx', 'david.ur@gmail.com']\n['david.planta@gmail.com']\n['pero_gato_loco@outlook.com']\n"
    }
   ],
   "source": [
    "for item in strings:\n",
    "    matches= re.findall(email_pattern,item)\n",
    "    print(matches)"
   ]
  },
  {
   "cell_type": "code",
   "execution_count": 16,
   "metadata": {
    "tags": []
   },
   "outputs": [
    {
     "output_type": "stream",
     "name": "stdout",
     "text": "<_sre.SRE_Match object; span=(0, 16), match='+(155) 5034 0270'>\nNone\n<_sre.SRE_Match object; span=(0, 13), match='155 5045 3403'>\n<_sre.SRE_Match object; span=(0, 19), match='0871 1987 7264 1084'>\n"
    }
   ],
   "source": [
    "phone_number_pattern= \"\"\"^[+]*[(]{0,1}[0-9]{1,4}[)]{0,1}[-\\s\\./0-9]*$\"\"\"\n",
    "phone_matcher= re.compile(phone_number_pattern)\n",
    "print(phone_matcher.match(\"+(155) 5034 0270\"))\n",
    "print(phone_matcher.match(\"+/155/ u_a 5678 2345\"))\n",
    "print(phone_matcher.match(\"155 5045 3403\"))\n",
    "print(phone_matcher.match(\"0871 1987 7264 1084\"))"
   ]
  },
  {
   "cell_type": "code",
   "execution_count": 27,
   "metadata": {
    "tags": []
   },
   "outputs": [
    {
     "output_type": "stream",
     "name": "stdout",
     "text": "['hello', 'how', 'are', 'you']\n['ello', 'how', 'are', 'you']\n['ello', '.--_.,how', '_-_-are', '--you']\n['hello:..--_.,how:._-_-are:---you']\n"
    }
   ],
   "source": [
    "print(re.split(\"\"\":[,.;]\"\"\",\"hello:,how:.are:;you\"))\n",
    "print([item[1:] for item in \"hello:,how:.are:;you\".split(':')])\n",
    "print([item[1:] for item in \"hello:..--_.,how:._-_-are:---you\".split(':')])\n",
    "print(re.split(\"\"\"[:;.,-_]+\"\"\",\"hello:..--_.,how:._-_-are:---you\"))"
   ]
  },
  {
   "cell_type": "code",
   "execution_count": null,
   "metadata": {},
   "outputs": [],
   "source": []
  }
 ]
}