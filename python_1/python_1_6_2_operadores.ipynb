{
 "cells": [
  {
   "cell_type": "markdown",
   "metadata": {},
   "source": [
    "## Operadores"
   ]
  },
  {
   "cell_type": "markdown",
   "metadata": {},
   "source": [
    "## Aritméticos"
   ]
  },
  {
   "cell_type": "code",
   "execution_count": 1,
   "metadata": {},
   "outputs": [
    {
     "output_type": "stream",
     "name": "stdout",
     "text": [
      "result: 8\nresult: 3\nresult: 2.5\nresult: 15\nresult: 125\nresult: 1\nresult: 2\n"
     ]
    }
   ],
   "source": [
    "num = 3+5                ## SUM\n",
    "print(f\"result: {num}\")\n",
    "num = 5-2                ## RES\n",
    "print(f\"result: {num}\")\n",
    "num = 5/2                ## DIV\n",
    "print(f\"result: {num}\")\n",
    "num = 5*3                ## MUL\n",
    "print(f\"result: {num}\")\n",
    "num = 5**3               ## POT\n",
    "print(f\"result: {num}\")\n",
    "num = 5//3               ## DIV PISO\n",
    "print(f\"result: {num}\")\n",
    "num = 5%3                ## MOD\n",
    "print(f\"result: {num}\")\n",
    "\n"
   ]
  },
  {
   "cell_type": "markdown",
   "metadata": {},
   "source": [
    "## Operaciones por bit"
   ]
  },
  {
   "cell_type": "code",
   "execution_count": 23,
   "metadata": {},
   "outputs": [
    {
     "name": "stdout",
     "output_type": "stream",
     "text": [
      "result: 1\n",
      "result: 7\n",
      "result: 7\n",
      "result: 16\n",
      "result: 64\n",
      "result: -4\n"
     ]
    }
   ],
   "source": [
    "num = 3&5                ## bit and\n",
    "print(f\"result: {num}\")\n",
    "num = 5|2                ## bit or\n",
    "print(f\"result: {num}\")\n",
    "num = 5^2                ## bit xor\n",
    "print(f\"result: {num}\")\n",
    "num = 128>>3               ## bit positive displacement\n",
    "print(f\"result: {num}\")\n",
    "num = 8<<3               ## bit negative displacement\n",
    "print(f\"result: {num}\")\n",
    "num = ~3                 ## negation\n",
    "print(f\"result: {num}\")\n"
   ]
  },
  {
   "cell_type": "markdown",
   "metadata": {},
   "source": [
    "## Comparativos\n"
   ]
  },
  {
   "cell_type": "code",
   "execution_count": 3,
   "metadata": {},
   "outputs": [
    {
     "output_type": "stream",
     "name": "stdout",
     "text": [
      "result: False\nresult: True\nresult: False\nresult: False\nresult: True\n"
     ]
    }
   ],
   "source": [
    "True | False\n",
    "\n",
    "num = 3==5                ## igual\n",
    "print(f\"result: {num}\")\n",
    "num = 5>=2                ## mayor o igual\n",
    "print(f\"result: {num}\")\n",
    "num = 5<=2                ## menor o igual\n",
    "print(f\"result: {num}\")\n",
    "num = 5<3                 ## menor\n",
    "print(f\"result: {num}\")\n",
    "num = 5>3                 ## mayor\n",
    "print(f\"result: {num}\")\n",
    "num = 5!=3                ## diferente\n",
    "print(f\"result: {num}\")\n"
   ]
  },
  {
   "cell_type": "markdown",
   "metadata": {},
   "source": [
    "## Asignación"
   ]
  },
  {
   "cell_type": "code",
   "execution_count": 9,
   "metadata": {},
   "outputs": [
    {
     "name": "stdout",
     "output_type": "stream",
     "text": [
      "result: 15\n",
      "result: 13\n",
      "result: 6.5\n",
      "result: 19.5\n",
      "result: 7414.875\n",
      "result: 2471.0\n",
      "result: 2.0\n",
      "BITS------------\n",
      "result: 0\n",
      "result: 64\n",
      "result: 72\n",
      "result: 576\n"
     ]
    }
   ],
   "source": [
    "num = 10\n",
    "num +=5                ## SUM\n",
    "print(f\"result: {num}\")\n",
    "num -=2                ## RES\n",
    "print(f\"result: {num}\")\n",
    "num /=2                ## DIV\n",
    "print(f\"result: {num}\")\n",
    "num *=3                ## MUL\n",
    "print(f\"result: {num}\")\n",
    "num **=3               ## POT\n",
    "print(f\"result: {num}\")\n",
    "num //=3               ## DIV PISO\n",
    "print(f\"result: {num}\")\n",
    "num %=3                ## MOD\n",
    "print(f\"result: {num}\")\n",
    "print(\"BITS------------\")\n",
    "num = 128\n",
    "num &=127                ## Bit and\n",
    "print(f\"result: {num}\")\n",
    "num |=64                ## Bit or\n",
    "print(f\"result: {num}\")\n",
    "num ^=8                ## Bit Xor\n",
    "print(f\"result: {num}\")\n",
    "num <<=3               ## bit negative displacement\n",
    "print(f\"result: {num}\")\n",
    "num >>=3               ## bit positive displacement"
   ]
  },
  {
   "cell_type": "markdown",
   "metadata": {},
   "source": [
    "## Logicos"
   ]
  },
  {
   "cell_type": "code",
   "execution_count": 14,
   "metadata": {},
   "outputs": [
    {
     "name": "stdout",
     "output_type": "stream",
     "text": [
      "result: False\n",
      "result: True\n",
      "result: False\n"
     ]
    }
   ],
   "source": [
    "num = False and True               ## and\n",
    "print(f\"result: {num}\")\n",
    "num = False or True                ## or\n",
    "print(f\"result: {num}\")\n",
    "num = not True                 ## not\n",
    "print(f\"result: {num}\")\n"
   ]
  },
  {
   "cell_type": "markdown",
   "metadata": {},
   "source": [
    "## identidad"
   ]
  },
  {
   "cell_type": "code",
   "execution_count": 17,
   "metadata": {},
   "outputs": [
    {
     "name": "stdout",
     "output_type": "stream",
     "text": [
      "result: True\n",
      "result: True\n"
     ]
    }
   ],
   "source": [
    "num_1 = 4               \n",
    "num_2 = 5\n",
    "num_3 = num_1\n",
    "\n",
    "res = num_1 is num_3       ## is\n",
    "print(f\"result: {res}\")\n",
    "res = num_1 is not num_2   ## is not\n",
    "print(f\"result: {num}\")"
   ]
  },
  {
   "cell_type": "markdown",
   "metadata": {},
   "source": [
    "## pertenencia"
   ]
  },
  {
   "cell_type": "code",
   "execution_count": 20,
   "metadata": {},
   "outputs": [
    {
     "name": "stdout",
     "output_type": "stream",
     "text": [
      "result: True\n",
      "result: True\n"
     ]
    }
   ],
   "source": [
    "num_1 = \"1\"               \n",
    "num_2 = \"9\"\n",
    "num_3 = num_1\n",
    "\n",
    "res = num_1 in num_3       ## in\n",
    "print(f\"result: {res}\")\n",
    "res = num_1 not in num_2   ## not in\n",
    "print(f\"result: {num}\")"
   ]
  },
  {
   "cell_type": "code",
   "execution_count": null,
   "metadata": {},
   "outputs": [],
   "source": []
  }
 ],
 "metadata": {
  "kernelspec": {
   "display_name": "Python 3",
   "language": "python",
   "name": "python3"
  },
  "language_info": {
   "codemirror_mode": {
    "name": "ipython",
    "version": 3
   },
   "file_extension": ".py",
   "mimetype": "text/x-python",
   "name": "python",
   "nbconvert_exporter": "python",
   "pygments_lexer": "ipython3",
   "version": "3.6.8-final"
  }
 },
 "nbformat": 4,
 "nbformat_minor": 4
}