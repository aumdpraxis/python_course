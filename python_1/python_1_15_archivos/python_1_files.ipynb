{
 "cells": [
  {
   "cell_type": "markdown",
   "metadata": {},
   "source": [
    "# Manejo de archivos"
   ]
  },
  {
   "cell_type": "code",
   "execution_count": 1,
   "metadata": {},
   "outputs": [
    {
     "name": "stdout",
     "output_type": "stream",
     "text": [
      "este es un ejemplo de archivo de texto\n",
      "aqui puede haber un json, yaml, o lo que sea necesario.\n"
     ]
    }
   ],
   "source": [
    "with open(\"example_file.txt\",'r') as file:\n",
    "    print(file.read())"
   ]
  },
  {
   "cell_type": "code",
   "execution_count": 2,
   "metadata": {},
   "outputs": [
    {
     "name": "stdout",
     "output_type": "stream",
     "text": [
      "este es un ejemplo de archivo de texto\n",
      "aqui puede haber un json, yaml, o lo que sea necesario.\n"
     ]
    }
   ],
   "source": [
    "f = open('example_file.txt','r')\n",
    "print(f.read())\n",
    "f.close()"
   ]
  },
  {
   "cell_type": "code",
   "execution_count": 3,
   "metadata": {},
   "outputs": [
    {
     "output_type": "stream",
     "name": "stdout",
     "text": [
      "{'uno': 'genial', 'dos': 'el', 'tre': 'uso', 'cua': 'de', 'cin': 'python'}\n"
     ]
    }
   ],
   "source": [
    "import json\n",
    "\n",
    "data = {\n",
    "    \"uno\":\"genial\",\n",
    "    \"dos\":\"el\",\n",
    "    \"tre\":\"uso\",\n",
    "    \"cua\":\"de\",\n",
    "    \"cin\":\"python\"\n",
    "}\n",
    "\n",
    "with open('data.json','r') as file:\n",
    "    var = json.loads(file.read())\n",
    "    print(type(var))\n",
    "    # print(json.dumps(data))"
   ]
  },
  {
   "cell_type": "code",
   "execution_count": 9,
   "metadata": {},
   "outputs": [
    {
     "name": "stdout",
     "output_type": "stream",
     "text": [
      "{'uno': 'genial', 'dos': 'el', 'tre': 'uso', 'cua': 'de', 'cin': 'python'}\n",
      "<class 'dict'>\n"
     ]
    }
   ],
   "source": [
    "import pickle\n",
    "\n",
    "with open('data.bin','wb') as file:\n",
    "    pickle.dump( data,file )\n",
    "    \n",
    "with open('data.bin','rb') as file:\n",
    "    data_1 = pickle.load(file)\n",
    "    print( data_1 )\n",
    "    print( type( data_1 ) )"
   ]
  },
  {
   "cell_type": "code",
   "execution_count": null,
   "metadata": {},
   "outputs": [],
   "source": []
  }
 ],
 "metadata": {
  "kernelspec": {
   "display_name": "Python 3",
   "language": "python",
   "name": "python3"
  },
  "language_info": {
   "codemirror_mode": {
    "name": "ipython",
    "version": 3
   },
   "file_extension": ".py",
   "mimetype": "text/x-python",
   "name": "python",
   "nbconvert_exporter": "python",
   "pygments_lexer": "ipython3",
   "version": "3.6.8-final"
  }
 },
 "nbformat": 4,
 "nbformat_minor": 4
}