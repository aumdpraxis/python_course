{
 "cells": [
  {
   "cell_type": "markdown",
   "metadata": {},
   "source": [
    "# Clases\n"
   ]
  },
  {
   "cell_type": "code",
   "execution_count": 4,
   "metadata": {},
   "outputs": [
    {
     "output_type": "stream",
     "name": "stdout",
     "text": [
      "function_0 from example class\nfunction_0 from example class\n"
     ]
    }
   ],
   "source": [
    "class example:\n",
    "    \"\"\"this class does'nt do nathing\n",
    "    \"\"\"\n",
    "    ## PUBLIC ATTRIBUTES\n",
    "    attribute_0= 0\n",
    "    ## PROTECTED ATTRIBUTES\n",
    "    _attribute_1= 0\n",
    "    ## PRIVATE ATTRIBUTES\n",
    "    __attribute_2= 0\n",
    "\n",
    "    @staticmethod\n",
    "    def function_3():\n",
    "        print(\"function_0 from example class\")\n",
    "    \n",
    "    ## -----------------------\n",
    "    ## PUBLIC METHODS\n",
    "    def function_0(self):\n",
    "        print(\"function_0 from example class\")\n",
    "    ## PROTECTED METHOD\n",
    "    def _function_1(self):\n",
    "        pass\n",
    "    ## PRIVATE METHOD\n",
    "    def __function_2(self):\n",
    "        pass\n",
    "    ## ------------------------\n",
    "    ## PREBUILD FUNCTIONS\n",
    "    def __init__(self):\n",
    "        pass\n",
    "    def __str__(self):\n",
    "        pass\n",
    "    ## .\n",
    "    ## .\n",
    "    ## .\n",
    "\n",
    "example.function_3()\n",
    "obj= example()\n",
    "obj.function_0()"
   ]
  },
  {
   "cell_type": "markdown",
   "metadata": {},
   "source": [
    "## Uso de las clases"
   ]
  },
  {
   "cell_type": "code",
   "execution_count": 5,
   "metadata": {},
   "outputs": [
    {
     "output_type": "stream",
     "name": "stdout",
     "text": [
      "the value of the data is:- 0\n"
     ]
    }
   ],
   "source": [
    "temp_obj= example() ## call of __init__()\n",
    "## call of method\n",
    "temp_obj._function_1()\n",
    "## access to attribute\n",
    "print(f\"the value of the data is:- {temp_obj.attribute_0}\")"
   ]
  },
  {
   "cell_type": "markdown",
   "metadata": {},
   "source": [
    "## Herencia\n"
   ]
  },
  {
   "cell_type": "code",
   "execution_count": 12,
   "metadata": {},
   "outputs": [
    {
     "name": "stdout",
     "output_type": "stream",
     "text": [
      "function_0 from example class\n",
      "the value of the data is:- 0\n"
     ]
    }
   ],
   "source": [
    "class example_1( example ):\n",
    "    def __init__(self):\n",
    "        super().__init__()\n",
    "\n",
    "\n",
    "temp_obj_1= example_1() ## call of __init__()\n",
    "## call of method\n",
    "temp_obj_1.function_0()\n",
    "## access to attribute\n",
    "print(f\"the value of the data is:- {temp_obj.attribute_0}\")\n"
   ]
  },
  {
   "cell_type": "code",
   "execution_count": 7,
   "metadata": {},
   "outputs": [
    {
     "output_type": "error",
     "ename": "NameError",
     "evalue": "name 'temp_obj_1' is not defined",
     "traceback": [
      "\u001b[1;31m---------------------------------------------------------------------------\u001b[0m",
      "\u001b[1;31mNameError\u001b[0m                                 Traceback (most recent call last)",
      "\u001b[1;32m<ipython-input-7-fc916a58e773>\u001b[0m in \u001b[0;36m<module>\u001b[1;34m\u001b[0m\n\u001b[1;32m----> 1\u001b[1;33m \u001b[0mtemp_obj_1\u001b[0m\u001b[1;33m.\u001b[0m\u001b[0m_function_1\u001b[0m\u001b[1;33m(\u001b[0m\u001b[1;33m)\u001b[0m\u001b[1;33m\u001b[0m\u001b[1;33m\u001b[0m\u001b[0m\n\u001b[0m",
      "\u001b[1;31mNameError\u001b[0m: name 'temp_obj_1' is not defined"
     ]
    }
   ],
   "source": [
    "temp_obj_1._function_1()"
   ]
  },
  {
   "cell_type": "markdown",
   "metadata": {},
   "source": [
    "## polimorfismo"
   ]
  },
  {
   "cell_type": "code",
   "execution_count": 16,
   "metadata": {},
   "outputs": [
    {
     "name": "stdout",
     "output_type": "stream",
     "text": [
      "function_0 from example class\n"
     ]
    }
   ],
   "source": [
    "def execute_function( arg:example ):\n",
    "    arg.function_0()\n",
    "\n",
    "execute_function(temp_obj_1)"
   ]
  },
  {
   "cell_type": "code",
   "execution_count": 21,
   "metadata": {},
   "outputs": [
    {
     "ename": "TypeError",
     "evalue": "poly_function_0() missing 1 required positional argument: 'argument_1'",
     "output_type": "error",
     "traceback": [
      "\u001b[0;31m---------------------------------------------------------------------------\u001b[0m",
      "\u001b[0;31mTypeError\u001b[0m                                 Traceback (most recent call last)",
      "\u001b[0;32m<ipython-input-21-e65d8b09e2d5>\u001b[0m in \u001b[0;36m<module>\u001b[0;34m\u001b[0m\n\u001b[1;32m     22\u001b[0m \u001b[0mtemp_obj_2\u001b[0m\u001b[0;34m=\u001b[0m \u001b[0mexample_2\u001b[0m\u001b[0;34m(\u001b[0m\u001b[0;34m)\u001b[0m\u001b[0;34m\u001b[0m\u001b[0;34m\u001b[0m\u001b[0m\n\u001b[1;32m     23\u001b[0m \u001b[0;34m\u001b[0m\u001b[0m\n\u001b[0;32m---> 24\u001b[0;31m \u001b[0mtemp_obj_2\u001b[0m\u001b[0;34m.\u001b[0m\u001b[0mpoly_function_0\u001b[0m\u001b[0;34m(\u001b[0m\u001b[0;36m123456\u001b[0m\u001b[0;34m)\u001b[0m\u001b[0;34m\u001b[0m\u001b[0;34m\u001b[0m\u001b[0m\n\u001b[0m\u001b[1;32m     25\u001b[0m \u001b[0mtemp_obj_2\u001b[0m\u001b[0;34m.\u001b[0m\u001b[0mpoly_function_0\u001b[0m\u001b[0;34m(\u001b[0m\u001b[0;34m\"hola\"\u001b[0m\u001b[0;34m,\u001b[0m\u001b[0;36m0.9876\u001b[0m\u001b[0;34m)\u001b[0m\u001b[0;34m\u001b[0m\u001b[0;34m\u001b[0m\u001b[0m\n\u001b[1;32m     26\u001b[0m \u001b[0mtemp_obj_2\u001b[0m\u001b[0;34m.\u001b[0m\u001b[0mpoly_function_1\u001b[0m\u001b[0;34m(\u001b[0m\u001b[0;34m\"hola\"\u001b[0m\u001b[0;34m,\u001b[0m\u001b[0;36m0.0542\u001b[0m\u001b[0;34m,\u001b[0m\u001b[0;36m55904\u001b[0m\u001b[0;34m,\u001b[0m\u001b[0;36m879\u001b[0m\u001b[0;34m+\u001b[0m\u001b[0;36m98j\u001b[0m\u001b[0;34m)\u001b[0m\u001b[0;34m\u001b[0m\u001b[0;34m\u001b[0m\u001b[0m\n",
      "\u001b[0;31mTypeError\u001b[0m: poly_function_0() missing 1 required positional argument: 'argument_1'"
     ]
    }
   ],
   "source": [
    "class example_2(example):\n",
    "    def __init__(self):\n",
    "        pass\n",
    "    \n",
    "    def poly_function_0(self,argument:int):\n",
    "        print(type(argument))\n",
    "        print(\"function 0_0\")\n",
    "        \n",
    "    def poly_function_0(self,argument_0:str,argument_1:float):\n",
    "        print(type(argument_0))\n",
    "        print(type(argument_1))\n",
    "        print(\"function_0_1\")\n",
    "        \n",
    "    def poly_function_1(self,*argv,**kvargs):\n",
    "        print(\"ARGV---\")\n",
    "        for item in argv:\n",
    "            print(type(item))\n",
    "        print(\"KVARGV\")\n",
    "        for key,value in kvargs.items():\n",
    "            print(f\"{key}:{type((value))}\")\n",
    "\n",
    "temp_obj_2= example_2()\n",
    "\n",
    "temp_obj_2.poly_function_0(123456)\n",
    "temp_obj_2.poly_function_0(\"hola\",0.9876)\n"
   ]
  },
  {
   "cell_type": "code",
   "execution_count": 24,
   "metadata": {},
   "outputs": [
    {
     "name": "stdout",
     "output_type": "stream",
     "text": [
      "ARGV---\n",
      "<class 'str'>\n",
      "<class 'float'>\n",
      "<class 'int'>\n",
      "<class 'complex'>\n",
      "KVARGV\n",
      "i:<class 'str'>\n",
      "j:<class 'int'>\n",
      "k:<class 'float'>\n",
      "l:<class 'complex'>\n"
     ]
    }
   ],
   "source": [
    "temp_obj_2.poly_function_1(\"hola\",0.0542,55904,879+98j,i=\"hola\",j=980,k=87.0978,l=608+987j)"
   ]
  },
  {
   "cell_type": "code",
   "execution_count": null,
   "metadata": {},
   "outputs": [],
   "source": []
  }
 ],
 "metadata": {
  "kernelspec": {
   "display_name": "Python 3",
   "language": "python",
   "name": "python3"
  },
  "language_info": {
   "codemirror_mode": {
    "name": "ipython",
    "version": 3
   },
   "file_extension": ".py",
   "mimetype": "text/x-python",
   "name": "python",
   "nbconvert_exporter": "python",
   "pygments_lexer": "ipython3",
   "version": "3.6.8-final"
  }
 },
 "nbformat": 4,
 "nbformat_minor": 4
}