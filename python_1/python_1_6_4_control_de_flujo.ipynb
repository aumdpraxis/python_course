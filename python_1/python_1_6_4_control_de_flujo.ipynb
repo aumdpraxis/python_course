{
 "cells": [
  {
   "cell_type": "markdown",
   "metadata": {},
   "source": [
    "# Sentencias de control"
   ]
  },
  {
   "cell_type": "markdown",
   "metadata": {},
   "source": [
    "## if - elif - else"
   ]
  },
  {
   "cell_type": "code",
   "execution_count": 2,
   "metadata": {},
   "outputs": [
    {
     "name": "stdout",
     "output_type": "stream",
     "text": [
      "IRONMAN!\n"
     ]
    }
   ],
   "source": [
    "a= \"rojo\"\n",
    "if(a == \"verde\"):\n",
    "    print(\"HULK!\")\n",
    "elif(a == \"azul\"):\n",
    "    print(\"Capitan!\")\n",
    "elif(a == \"rojo\"):\n",
    "    print(\"IRONMAN!\")\n",
    "else:\n",
    "    print(\"HELP ME!\")"
   ]
  },
  {
   "cell_type": "markdown",
   "metadata": {},
   "source": [
    "## while"
   ]
  },
  {
   "cell_type": "code",
   "execution_count": 4,
   "metadata": {},
   "outputs": [
    {
     "name": "stdout",
     "output_type": "stream",
     "text": [
      "your life is: 100\n",
      "your life is: 90\n",
      "your life is: 80\n",
      "your life is: 70\n",
      "your life is: 60\n",
      "your life is: 50\n",
      "your life is: 40\n",
      "your life is: 30\n",
      "your life is: 20\n",
      "%%% CRITIC HEALTH! %%%%\n",
      "your life is: 10\n",
      "%%% CRITIC HEALTH! %%%%\n",
      "you are dead!\n"
     ]
    }
   ],
   "source": [
    "import time\n",
    "life = 100\n",
    "poison_damage_per_sec = 10\n",
    "while(life>0):\n",
    "    print(f\"your life is: {life}\")\n",
    "    if(life<=20):\n",
    "        print(\"%%% CRITIC HEALTH! %%%%\")\n",
    "    life-=poison_damage_per_sec\n",
    "    time.sleep(1)\n",
    "print(\"you are dead!\")"
   ]
  },
  {
   "cell_type": "markdown",
   "metadata": {},
   "source": [
    "## For"
   ]
  },
  {
   "cell_type": "code",
   "execution_count": 5,
   "metadata": {},
   "outputs": [
    {
     "name": "stdout",
     "output_type": "stream",
     "text": [
      "#\n",
      "#\n",
      "_\n",
      "_\n",
      "#\n",
      "#\n",
      "_\n",
      "_\n",
      "#\n",
      "#\n",
      "_\n",
      "_\n",
      "_\n",
      "_\n",
      "#\n",
      "#\n",
      "_\n",
      "_\n",
      "#\n",
      "#\n",
      "#\n",
      "#\n",
      "#\n",
      "#\n",
      "_\n",
      "_\n",
      "#\n",
      "#\n",
      "_\n",
      "_\n"
     ]
    }
   ],
   "source": [
    "car = [\n",
    "    \"##__##\",\n",
    "    \"__##__\",\n",
    "    \"__##__\",\n",
    "    \"######\",\n",
    "    \"__##__\"\n",
    "]\n",
    "for row in car:\n",
    "    for char in row:\n",
    "        print(char)"
   ]
  },
  {
   "cell_type": "markdown",
   "metadata": {},
   "source": [
    "## break - continue - else_loop"
   ]
  },
  {
   "cell_type": "code",
   "execution_count": 11,
   "metadata": {},
   "outputs": [
    {
     "name": "stdout",
     "output_type": "stream",
     "text": [
      "rojo\n",
      "amarillo\n",
      "azul\n",
      "morado\n",
      "we've find it!!!\n",
      "%%%%%%%%%%%%%%%%%%%%%\n",
      "rojo\n",
      "amarillo\n",
      "azul\n",
      "morado\n",
      "negro\n",
      "blanco\n",
      "we haven't found it!!!\n"
     ]
    }
   ],
   "source": [
    "colors=[\"rojo\",\"verde\",\"amarillo\",\"azul\",\"morado\",\"negro\",\"blanco\"]\n",
    "####################################\n",
    "for color in colors:\n",
    "    if color == \"verde\":\n",
    "        continue\n",
    "    elif color == \"negro\":\n",
    "        print(\"we've find it!!!\")\n",
    "        break\n",
    "    else:\n",
    "        print(color)\n",
    "else:\n",
    "    print(\"we haven't found it!!!\")\n",
    "print(\"%%%%%%%%%%%%%%%%%%%%%\")\n",
    "####################################\n",
    "for color in colors:\n",
    "    if color == \"verde\":\n",
    "        continue\n",
    "    elif color == \"cafe\":\n",
    "        break\n",
    "    else:\n",
    "        print(color)\n",
    "else:\n",
    "    print(\"we haven't found it!!!\")\n",
    "    \n",
    "    "
   ]
  },
  {
   "cell_type": "markdown",
   "metadata": {},
   "source": [
    "## pass"
   ]
  },
  {
   "cell_type": "code",
   "execution_count": 12,
   "metadata": {},
   "outputs": [],
   "source": [
    "## la funcion no hace nada, pero es necesario pass para que la falta de\n",
    "## contenido en la funcion no sea marcada como un error\n",
    "def temp_func():\n",
    "    pass"
   ]
  },
  {
   "cell_type": "markdown",
   "metadata": {},
   "source": [
    "## funciones"
   ]
  },
  {
   "cell_type": "code",
   "execution_count": 15,
   "metadata": {},
   "outputs": [
    {
     "name": "stdout",
     "output_type": "stream",
     "text": [
      "0\n",
      "1\n",
      "1\n",
      "2\n",
      "3\n",
      "5\n",
      "8\n",
      "13\n",
      "21\n",
      "34\n",
      "55\n",
      "89\n",
      "%%%%%%\n",
      "0\n",
      "1\n",
      "1\n",
      "2\n",
      "3\n",
      "5\n",
      "8\n",
      "%%%%%%\n",
      "0\n",
      "1\n",
      "1\n",
      "2\n",
      "3\n",
      "5\n",
      "8\n",
      "13\n",
      "21\n",
      "34\n",
      "55\n",
      "89\n",
      "144\n"
     ]
    }
   ],
   "source": [
    "def fib(n=10):\n",
    "    a,b = 0,1\n",
    "    while a<n:\n",
    "        print(a)\n",
    "        a,b = b,a+b\n",
    "fib(100)\n",
    "print(\"%%%%%%\")\n",
    "fib()\n",
    "print(\"%%%%%%\")\n",
    "fib(n=150)"
   ]
  },
  {
   "cell_type": "markdown",
   "metadata": {},
   "source": [
    "## lambda expressions"
   ]
  },
  {
   "cell_type": "code",
   "execution_count": 17,
   "metadata": {},
   "outputs": [
    {
     "name": "stdout",
     "output_type": "stream",
     "text": [
      "532\n"
     ]
    }
   ],
   "source": [
    "f = lambda x: 5*x*x + 3*x + 2\n",
    "print(f(10)) ##### 5*100 + 3*10 + 2 = 532"
   ]
  },
  {
   "cell_type": "markdown",
   "metadata": {},
   "source": []
  }
 ],
 "metadata": {
  "kernelspec": {
   "display_name": "Python 3",
   "language": "python",
   "name": "python3"
  },
  "language_info": {
   "codemirror_mode": {
    "name": "ipython",
    "version": 3
   },
   "file_extension": ".py",
   "mimetype": "text/x-python",
   "name": "python",
   "nbconvert_exporter": "python",
   "pygments_lexer": "ipython3",
   "version": "3.7.4"
  }
 },
 "nbformat": 4,
 "nbformat_minor": 4
}
