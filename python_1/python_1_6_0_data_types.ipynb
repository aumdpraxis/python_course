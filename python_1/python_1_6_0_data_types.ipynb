{
 "cells": [
  {
   "cell_type": "markdown",
   "metadata": {},
   "source": [
    "## Tipos de datos Secuenciales"
   ]
  },
  {
   "cell_type": "markdown",
   "metadata": {},
   "source": [
    "Son objetos iterables con caractristicas únicas entre sí"
   ]
  },
  {
   "cell_type": "markdown",
   "metadata": {},
   "source": [
    "## Strings"
   ]
  },
  {
   "cell_type": "code",
   "execution_count": 2,
   "metadata": {},
   "outputs": [
    {
     "output_type": "execute_result",
     "data": {
      "text/plain": [
       "\"hello \\\\'world\\\\'\""
      ]
     },
     "metadata": {},
     "execution_count": 2
    }
   ],
   "source": [
    "\"world\"\n",
    "'hello worrd'\n",
    "' hola \"mundo\" '\n",
    "\"hello {}\".format(\"world\")\n",
    "\"hello world {17984}\"\n",
    "\"hello 'world'\"\n",
    "\"hello\\\n",
    "world\"\n",
    "\"\"\"\n",
    "----------------\n",
    "Éste es un ejemplo de uso de doc-strings\n",
    "como cadenas de texto\n",
    ".\n",
    ".\n",
    ".\n",
    "Genial!\n",
    "\"\"\"\n",
    "r\"hello \\'world\\'\" ## <--- r is for raw"
   ]
  },
  {
   "cell_type": "markdown",
   "metadata": {},
   "source": [
    "## Tuplas"
   ]
  },
  {
   "cell_type": "code",
   "execution_count": 12,
   "metadata": {},
   "outputs": [
    {
     "output_type": "stream",
     "name": "stdout",
     "text": [
      "3.64\n"
     ]
    },
    {
     "output_type": "execute_result",
     "data": {
      "text/plain": [
       "()"
      ]
     },
     "metadata": {},
     "execution_count": 12
    }
   ],
   "source": [
    "tup= ( 56,\"Hola!\", 15+18.45j, [1,1,1] )\n",
    "()"
   ]
  },
  {
   "cell_type": "markdown",
   "metadata": {},
   "source": [
    "## Listas"
   ]
  },
  {
   "cell_type": "code",
   "execution_count": 7,
   "metadata": {},
   "outputs": [
    {
     "data": {
      "text/plain": [
       "[]"
      ]
     },
     "execution_count": 7,
     "metadata": {},
     "output_type": "execute_result"
    }
   ],
   "source": [
    "a= [ 56,\"Hola!\", 15+18.45j, [1,1,1] ]\n",
    "[14.56]\n",
    "[]"
   ]
  },
  {
   "cell_type": "markdown",
   "metadata": {},
   "source": [
    "## Diccionarios"
   ]
  },
  {
   "cell_type": "code",
   "execution_count": 10,
   "metadata": {},
   "outputs": [
    {
     "output_type": "stream",
     "name": "stdout",
     "text": [
      "valor\n"
     ]
    }
   ],
   "source": [
    "mydict= {\"uno\":\"valor\",\"dos\":2,3:\"valor\"}\n",
    "{}\n",
    "print(mydict[\"uno\"])"
   ]
  },
  {
   "cell_type": "markdown",
   "metadata": {},
   "source": [
    "# Sets - conjuntos"
   ]
  },
  {
   "cell_type": "code",
   "execution_count": 11,
   "metadata": {},
   "outputs": [
    {
     "output_type": "execute_result",
     "data": {
      "text/plain": [
       "{('hola', 'mundo'), 1, 15.3, 4, 5}"
      ]
     },
     "metadata": {},
     "execution_count": 11
    }
   ],
   "source": [
    "set([1,5,4,(\"hola\",\"mundo\"),15.3])\n",
    "{1,5,4,(\"hola\",\"mundo\"),15.3}"
   ]
  },
  {
   "cell_type": "code",
   "execution_count": null,
   "metadata": {},
   "outputs": [],
   "source": []
  }
 ],
 "metadata": {
  "kernelspec": {
   "display_name": "Python 3",
   "language": "python",
   "name": "python3"
  },
  "language_info": {
   "codemirror_mode": {
    "name": "ipython",
    "version": 3
   },
   "file_extension": ".py",
   "mimetype": "text/x-python",
   "name": "python",
   "nbconvert_exporter": "python",
   "pygments_lexer": "ipython3",
   "version": "3.6.8-final"
  }
 },
 "nbformat": 4,
 "nbformat_minor": 4
}