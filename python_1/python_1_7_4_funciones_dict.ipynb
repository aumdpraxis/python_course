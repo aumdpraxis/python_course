{
 "metadata": {
  "language_info": {
   "codemirror_mode": {
    "name": "ipython",
    "version": 3
   },
   "file_extension": ".py",
   "mimetype": "text/x-python",
   "name": "python",
   "nbconvert_exporter": "python",
   "pygments_lexer": "ipython3",
   "version": "3.6.8-final"
  },
  "orig_nbformat": 2,
  "kernelspec": {
   "name": "python_defaultSpec_1597387191644",
   "display_name": "Python 3.6.8 64-bit"
  }
 },
 "nbformat": 4,
 "nbformat_minor": 2,
 "cells": [
  {
   "cell_type": "markdown",
   "metadata": {},
   "source": [
    "# Funciones sobre diccionarios"
   ]
  },
  {
   "cell_type": "code",
   "execution_count": 2,
   "metadata": {
    "tags": []
   },
   "outputs": [
    {
     "output_type": "stream",
     "name": "stdout",
     "text": "{'uno': 2, 'tres': 4}\n"
    }
   ],
   "source": [
    "temp_dict= dict( [('uno',2),('tres',4)] )\n",
    "print(temp_dict)"
   ]
  },
  {
   "cell_type": "code",
   "execution_count": 4,
   "metadata": {
    "tags": []
   },
   "outputs": [
    {
     "output_type": "stream",
     "name": "stdout",
     "text": "1:uno\n2:dos\n3:tres\n4:cuatro\n"
    }
   ],
   "source": [
    "for item,value in zip( [1,2,3,4],['uno','dos','tres','cuatro'] ):\n",
    "    print(f\"{item}:{value}\")"
   ]
  },
  {
   "cell_type": "code",
   "execution_count": 7,
   "metadata": {
    "tags": []
   },
   "outputs": [
    {
     "output_type": "stream",
     "name": "stdout",
     "text": "uno:2\ntres:4\n<zip object at 0x00000101C9C49688>\n"
    }
   ],
   "source": [
    "for item,value in zip( temp_dict.keys(),temp_dict.values() ):\n",
    "    print(f\"{item}:{value}\")\n",
    "\n",
    "print(zip( temp_dict.keys(),temp_dict.values() ))"
   ]
  },
  {
   "cell_type": "code",
   "execution_count": 8,
   "metadata": {
    "tags": []
   },
   "outputs": [
    {
     "output_type": "stream",
     "name": "stdout",
     "text": "uno:2\ntres:4\ndict_items([('uno', 2), ('tres', 4)])\n"
    }
   ],
   "source": [
    "for item,value in temp_dict.items():\n",
    "    print(f\"{item}:{value}\")\n",
    "print(temp_dict.items())"
   ]
  },
  {
   "cell_type": "code",
   "execution_count": 9,
   "metadata": {
    "tags": []
   },
   "outputs": [
    {
     "output_type": "stream",
     "name": "stdout",
     "text": "{'uno': 5, 'tres': 4}\n{'uno': 6, 'tres': 4}\n"
    }
   ],
   "source": [
    "dict_copy= temp_dict.copy()\n",
    "dict_copy['uno']= 5\n",
    "temp_dict['cinco']= 6\n",
    "print(dict_copy)\n",
    "print(temp_dict)"
   ]
  },
  {
   "cell_type": "code",
   "execution_count": null,
   "metadata": {},
   "outputs": [],
   "source": []
  }
 ]
}