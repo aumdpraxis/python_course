{
 "metadata": {
  "language_info": {
   "codemirror_mode": {
    "name": "ipython",
    "version": 3
   },
   "file_extension": ".py",
   "mimetype": "text/x-python",
   "name": "python",
   "nbconvert_exporter": "python",
   "pygments_lexer": "ipython3",
   "version": "3.6.8-final"
  },
  "orig_nbformat": 2,
  "kernelspec": {
   "name": "python_defaultSpec_1597865761263",
   "display_name": "Python 3.6.8 64-bit"
  }
 },
 "nbformat": 4,
 "nbformat_minor": 2,
 "cells": [
  {
   "cell_type": "markdown",
   "metadata": {},
   "source": [
    "# conturrent.features - threadpool\n"
   ]
  },
  {
   "cell_type": "code",
   "execution_count": 5,
   "metadata": {
    "tags": []
   },
   "outputs": [
    {
     "output_type": "stream",
     "name": "stdout",
     "text": "--------alpha starting--------\n--------beta starting--------\n--------gamma starting--------\nmi name is gamma!, good to see ya!\tWed Aug 19 14:54:02 2020\n--------etha starting--------\n--------iota starting--------\nmi name is beta!, good to see ya!\tWed Aug 19 14:54:03 2020\nmi name is iota!, good to see ya!\tWed Aug 19 14:54:03 2020\nmi name is alpha!, good to see ya!\tWed Aug 19 14:54:04 2020\nmi name is etha!, good to see ya!\tWed Aug 19 14:54:05 2020\nmain process end!\n"
    }
   ],
   "source": [
    "import concurrent.futures as cf\n",
    "\n",
    "from random import randint\n",
    "import time\n",
    "\n",
    "_threads= []\n",
    "\n",
    "def print_name(name):\n",
    "    print(f\"--------{name} starting--------\")\n",
    "    time.sleep(randint(0,3)) \n",
    "    print(f\"mi name is {name}!, good to see ya!\\t{time.ctime()}\")\n",
    "\n",
    "\n",
    "def pool():\n",
    "    thread_names= ['alpha','beta','gamma','etha','iota']\n",
    "    with cf.ThreadPoolExecutor(max_workers=len(thread_names)) as executor:\n",
    "        executor.map(print_name,thread_names)\n",
    "    print(\"main process end!\")\n",
    "\n",
    "pool()"
   ]
  },
  {
   "cell_type": "markdown",
   "metadata": {},
   "source": [
    "## single variable for all threads"
   ]
  },
  {
   "cell_type": "code",
   "execution_count": 37,
   "metadata": {
    "tags": []
   },
   "outputs": [
    {
     "output_type": "stream",
     "name": "stdout",
     "text": "alpha init!\nbeta init!\ngamma init!\netha init!\niota init!\n1. etha:- \tactual value of var is 0, good luck!\n1. alpha:- \tactual value of var is 1, good luck!\n1. gamma:- \tactual value of var is 2, good luck!\n 2. etha:- \tactual value of var is 3, good luck!\n1. iota:- \tactual value of var is 3, good luck!\n1. beta:- \tactual value of var is 4, good luck!\n 2. gamma:- \tactual value of var is 5, good luck!\n 2. alpha:- \tactual value of var is 5, good luck!\n 2. iota:- \tactual value of var is 5, good luck!\n 2. beta:- \tactual value of var is 5, good luck!\nend of the main process\nPOOL 2---------\nalpha init!\nbeta init!\ngamma init!\netha init!\niota init!\n1. iota:- \tactual value of var is 0, good luck!\n1. beta:- \tactual value of var is 0, good luck!\n1. gamma:- \tactual value of var is 0, good luck!\n1. alpha:- \tactual value of var is 0, good luck!\n 2. beta:- \tactual value of var is 0, good luck!\n 2. iota:- \tactual value of var is 0, good luck!\n1. etha:- \tactual value of var is 0, good luck!\n 2. gamma:- \tactual value of var is 0, good luck!\n 2. alpha:- \tactual value of var is 0, good luck!\n 2. etha:- \tactual value of var is 0, good luck!\nend of the main process\n"
    }
   ],
   "source": [
    "import threading\n",
    "import time\n",
    "from random import randint\n",
    "\n",
    "class db_value:\n",
    "    def __init__(self):\n",
    "        self.var = 0\n",
    "    def update(self):\n",
    "        self.var+=1\n",
    "\n",
    "    def get(self):\n",
    "        return self.var\n",
    "\n",
    "def update_var(name,_temp_val):\n",
    "    print(f\"{name} init!\")\n",
    "    time.sleep(randint(1,5))\n",
    "    print(f\"1. {name}:- \\tactual value of var is {_temp_val.get()}, good luck!\")\n",
    "    _temp_val.update()\n",
    "    time.sleep(randint(1,5))\n",
    "    print(f\" 2. {name}:- \\tactual value of var is {_temp_val.get()}, good luck!\")\n",
    "\n",
    "def update_var_1(name,_temp_val):\n",
    "    global number\n",
    "    print(f\"{name} init!\")\n",
    "    time.sleep(randint(1,5))\n",
    "    print(f\"1. {name}:- \\tactual value of var is {number}, good luck!\")\n",
    "    number+=1\n",
    "    time.sleep(randint(1,5))\n",
    "    print(f\" 2. {name}:- \\tactual value of var is {number}, good luck!\")\n",
    "\n",
    "def pool_1():\n",
    "    temp_val = db_value()\n",
    "    thread_names= ['alpha','beta','gamma','etha','iota']\n",
    "    with cf.ThreadPoolExecutor(max_workers=len(thread_names)) as executor:\n",
    "        for item in thread_names:\n",
    "            executor.submit(update_var,item,temp_val)\n",
    "    print(\"end of the main process\")\n",
    "\n",
    "def pool_2():\n",
    "    global number\n",
    "    number = 0\n",
    "    thread_names= ['alpha','beta','gamma','etha','iota']\n",
    "    with cf.ThreadPoolExecutor(max_workers=len(thread_names)) as executor:\n",
    "        for item in thread_names:\n",
    "            executor.submit(update_var_1,item,number)\n",
    "    print(\"end of the main process\")\n",
    "\n",
    "pool_1()\n",
    "print(\"POOL 2---------\")\n",
    "pool_2()"
   ]
  },
  {
   "cell_type": "code",
   "execution_count": 28,
   "metadata": {
    "tags": []
   },
   "outputs": [
    {
     "output_type": "stream",
     "name": "stdout",
     "text": "alpha init!\nbeta init!\ngamma init!\netha init!\niota init!\n1. gamma:- \tactual value of var is 0, good luck!\n1. alpha:- \tactual value of var is 1, good luck!\n 2. alpha:- \tactual value of var is 2, good luck!\n 2. gamma:- \tactual value of var is 2, good luck!\n1. etha:- \tactual value of var is 2, good luck!\n1. iota:- \tactual value of var is 3, good luck!\n1. beta:- \tactual value of var is 4, good luck!\n 2. etha:- \tactual value of var is 5, good luck!\n 2. iota:- \tactual value of var is 5, good luck!\n 2. beta:- \tactual value of var is 5, good luck!\nend of the main process\n"
    }
   ],
   "source": [
    "class db_value:\n",
    "    def __init__(self):\n",
    "        self.var = 0\n",
    "    def update(self):\n",
    "        with threading.Lock():\n",
    "            self.var+=1\n",
    "\n",
    "    def get(self):\n",
    "        return self.var\n",
    "\n",
    "pool_1()"
   ]
  },
  {
   "cell_type": "code",
   "execution_count": null,
   "metadata": {},
   "outputs": [],
   "source": []
  }
 ]
}