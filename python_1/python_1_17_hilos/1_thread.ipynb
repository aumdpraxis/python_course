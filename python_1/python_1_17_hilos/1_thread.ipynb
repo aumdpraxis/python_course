{
 "metadata": {
  "language_info": {
   "codemirror_mode": {
    "name": "ipython",
    "version": 3
   },
   "file_extension": ".py",
   "mimetype": "text/x-python",
   "name": "python",
   "nbconvert_exporter": "python",
   "pygments_lexer": "ipython3",
   "version": "3.6.8-final"
  },
  "orig_nbformat": 2,
  "kernelspec": {
   "name": "python_defaultSpec_1597865914183",
   "display_name": "Python 3.6.8 64-bit"
  }
 },
 "nbformat": 4,
 "nbformat_minor": 2,
 "cells": [
  {
   "cell_type": "markdown",
   "metadata": {},
   "source": [
    "# Threads\n",
    "## Basic use"
   ]
  },
  {
   "cell_type": "code",
   "execution_count": 41,
   "metadata": {
    "tags": []
   },
   "outputs": [
    {
     "output_type": "stream",
     "name": "stdout",
     "text": "--------alpha starting----------------beta starting--------\nmi name is alpha!, good to see ya!\tWed Aug 19 14:30:06 2020\n--------gamma starting--------\n\nmi name is beta!, good to see ya!\tWed Aug 19 14:30:06 2020\n--------etha starting--------\n--------iota starting--------\nmain process end!\nmi name is iota!, good to see ya!\tWed Aug 19 14:30:07 2020\nmi name is gamma!, good to see ya!\tWed Aug 19 14:30:08 2020\nmi name is etha!, good to see ya!\tWed Aug 19 14:30:09 2020\n"
    }
   ],
   "source": [
    "import threading\n",
    "from random import randint\n",
    "import time\n",
    "\n",
    "_threads= []\n",
    "\n",
    "def print_name(name):\n",
    "    print(f\"--------{name} starting--------\")\n",
    "    time.sleep(randint(0,3)) \n",
    "    print(f\"mi name is {name}!, good to see ya!\\t{time.ctime()}\")\n",
    "\n",
    "def throw_threads_0():\n",
    "    _threads=[]\n",
    "    thread_names= ['alpha','beta','gamma','etha','iota']\n",
    "    for item in thread_names:\n",
    "        _temp_thread= threading.Thread(target=print_name,args=(item,))\n",
    "        _threads.append(_temp_thread)\n",
    "        _temp_thread.start()\n",
    "    print(\"main process end!\")\n",
    "\n",
    "throw_threads_0()"
   ]
  },
  {
   "cell_type": "markdown",
   "metadata": {},
   "source": [
    "## JOIN"
   ]
  },
  {
   "cell_type": "code",
   "execution_count": 44,
   "metadata": {
    "tags": []
   },
   "outputs": [
    {
     "output_type": "stream",
     "name": "stdout",
     "text": "--------alpha starting--------\nmi name is alpha!, good to see ya!\tWed Aug 19 14:31:13 2020\n--------beta starting--------\n--------gamma starting--------\n--------etha starting--------\n--------iota starting--------\nmi name is gamma!, good to see ya!\tWed Aug 19 14:31:14 2020\nmi name is beta!, good to see ya!\tWed Aug 19 14:31:15 2020\nmi name is etha!, good to see ya!\tWed Aug 19 14:31:15 2020\nmi name is iota!, good to see ya!\tWed Aug 19 14:31:16 2020\nmain process end!\n"
    }
   ],
   "source": [
    "def throw_threads_1():\n",
    "    _threads=[]\n",
    "    thread_names= ['alpha','beta','gamma','etha','iota']\n",
    "    for item in thread_names:\n",
    "        _temp_thread= threading.Thread(target=print_name,args=(item,))\n",
    "        _threads.append(_temp_thread)\n",
    "        _temp_thread.start()\n",
    "\n",
    "    for _thread in _threads:\n",
    "        _thread.join()\n",
    "    print(\"main process end!\")\n",
    "    \n",
    "\n",
    "throw_threads_1()"
   ]
  },
  {
   "cell_type": "markdown",
   "metadata": {},
   "source": [
    "## DAEMON"
   ]
  },
  {
   "cell_type": "code",
   "execution_count": 45,
   "metadata": {
    "tags": []
   },
   "outputs": [
    {
     "output_type": "stream",
     "name": "stdout",
     "text": "--------alpha starting--------\n--------beta starting--------\n--------gamma starting--------\n--------etha starting--------\n--------iota starting--------\nmi name is iota!, good to see ya!\tWed Aug 19 14:31:22 2020\nmi name is beta!, good to see ya!\tWed Aug 19 14:31:23 2020\nmi name is alpha!, good to see ya!\tWed Aug 19 14:31:24 2020\nmi name is etha!, good to see ya!\tWed Aug 19 14:31:24 2020mi name is gamma!, good to see ya!\tWed Aug 19 14:31:24 2020\n\nmain process end!\n"
    }
   ],
   "source": [
    "def throw_threads_2():\n",
    "    _threads=[]\n",
    "    thread_names= ['alpha','beta','gamma','etha','iota']\n",
    "    for item in thread_names:\n",
    "        _temp_thread= threading.Thread(target=print_name,args=(item,), daemon=True)\n",
    "        _threads.append(_temp_thread)\n",
    "        _temp_thread.start()\n",
    "    for _thread in _threads:\n",
    "        _thread.join()\n",
    "    print(\"main process end!\")\n",
    "    \n",
    "\n",
    "throw_threads_2()"
   ]
  },
  {
   "cell_type": "markdown",
   "metadata": {},
   "source": [
    "## one value for all threads"
   ]
  },
  {
   "cell_type": "code",
   "execution_count": 31,
   "metadata": {
    "tags": []
   },
   "outputs": [
    {
     "output_type": "stream",
     "name": "stdout",
     "text": "alpha init!\nbeta init!\ngamma init!\netha init!\niota init!\n1. alpha:- \tactual value of var is 0, good luck!\n1. beta:- \tactual value of var is 1, good luck!\n1. gamma:- \tactual value of var is 2, good luck!\n1. etha:- \tactual value of var is 3, good luck!\n1. iota:- \tactual value of var is 4, good luck!\n 2. alpha:- \tactual value of var is 5, good luck!\n 2. beta:- \tactual value of var is 5, good luck!\n 2. gamma:- \tactual value of var is 5, good luck!\n 2. etha:- \tactual value of var is 5, good luck!\n 2. iota:- \tactual value of var is 5, good luck!\nend of the main process\n"
    }
   ],
   "source": [
    "import threading\n",
    "import time\n",
    "from random import randint\n",
    "\n",
    "class db_value:\n",
    "    def __init__(self):\n",
    "        self.var = 0\n",
    "    def update(self):\n",
    "        self.var+=1\n",
    "\n",
    "    def get(self):\n",
    "        return self.var\n",
    "\n",
    "def update_var(name,_temp_val):\n",
    "    print(f\"{name} init!\")\n",
    "    time.sleep(randint(1,3))\n",
    "    print(f\"1. {name}:- \\tactual value of var is {_temp_val.get()}, good luck!\")\n",
    "    _temp_val.update()\n",
    "    time.sleep(randint(1,3))\n",
    "    print(f\" 2. {name}:- \\tactual value of var is {_temp_val.get()}, good luck!\")\n",
    "\n",
    "\n",
    "def throw_thread_3():\n",
    "    thread_names= ['alpha','beta','gamma','etha','iota']\n",
    "    _threads=[]\n",
    "    temp_val= db_value()\n",
    "    for item in thread_names:\n",
    "        _temp_thread= threading.Thread(target=update_var,args=(item,temp_val,), daemon=True)\n",
    "        _threads.append(_temp_thread)\n",
    "        _temp_thread.start()\n",
    "    for _thread in _threads:\n",
    "        _thread.join()\n",
    "    print(\"end of the main process\")\n",
    "\n",
    "throw_thread_3()"
   ]
  },
  {
   "cell_type": "code",
   "execution_count": 23,
   "metadata": {
    "tags": []
   },
   "outputs": [
    {
     "output_type": "stream",
     "name": "stdout",
     "text": "alpha init!\nbeta init!\ngamma init!\netha init!\niota init!\n1. etha:- \tactual value of var is 0, good luck!\n1. beta:- \tactual value of var is 1, good luck!\n1. alpha:- \tactual value of var is 2, good luck!\n1. gamma:- \tactual value of var is 3, good luck!\n 2. etha:- \tactual value of var is 4, good luck!\n1. iota:- \tactual value of var is 4, good luck!\n 2. gamma:- \tactual value of var is 5, good luck!\n 2. beta:- \tactual value of var is 5, good luck!\n 2. alpha:- \tactual value of var is 5, good luck!\n 2. iota:- \tactual value of var is 5, good luck!\nend of the main process\n"
    }
   ],
   "source": [
    "class db_value:\n",
    "    def __init__(self):\n",
    "        self.var = 0\n",
    "    def update(self):\n",
    "        with threading.Lock():\n",
    "            self.var+=1\n",
    "\n",
    "    def get(self):\n",
    "        return self.var\n",
    "\n",
    "throw_thread_3()"
   ]
  },
  {
   "cell_type": "code",
   "execution_count": null,
   "metadata": {},
   "outputs": [],
   "source": []
  }
 ]
}