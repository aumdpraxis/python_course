{
 "metadata": {
  "language_info": {
   "codemirror_mode": {
    "name": "ipython",
    "version": 3
   },
   "file_extension": ".py",
   "mimetype": "text/x-python",
   "name": "python",
   "nbconvert_exporter": "python",
   "pygments_lexer": "ipython3",
   "version": 3
  },
  "orig_nbformat": 2
 },
 "nbformat": 4,
 "nbformat_minor": 2,
 "cells": [
  {
   "cell_type": "code",
   "execution_count": null,
   "metadata": {},
   "outputs": [],
   "source": [
    "import random\n",
    "import nltk\n",
    "# nltk.download('twitter_samples')\n",
    "# nltk.download('averaged_perceptron_tagger')\n",
    "from nltk import classify, pos_tag\n",
    "from nltk.tokenize import word_tokenize\n",
    "from nltk.corpus import stopwords\n",
    "from nltk.corpus import twitter_samples\n",
    "from nltk.stem.wordnet import WordNetLemmatizer\n",
    "from nltk.classify.naivebayes import NaiveBayesClassifier"
   ]
  },
  {
   "cell_type": "code",
   "execution_count": null,
   "metadata": {},
   "outputs": [],
   "source": [
    "positive = twitter_samples.strings('positive_tweets.json')\n",
    "negative = twitter_samples.strings('negative_tweets.json')\n",
    "stop_words = list(set(stopwords.words('english')))\n",
    "\n",
    "print(f\"FIST EXAMPLE OF THE DATASET:\\n################\\n{positive[0]}\\n################\")\n",
    "\n",
    "positive_tokens = twitter_samples.tokenized('positive_tweets.json')\n",
    "negative_tokens = twitter_samples.tokenized('negative_tweets.json')"
   ]
  },
  {
   "cell_type": "code",
   "execution_count": null,
   "metadata": {},
   "outputs": [],
   "source": [
    "def clean(tokens):\n",
    "    tokens = [x for x in tokens if not x in stop_words]\n",
    "\n",
    "    l = WordNetLemmatizer()\n",
    "    lemmatized = []\n",
    "\n",
    "    for word, tag in pos_tag(tokens):\n",
    "        if tag.startswith('NN'):\n",
    "            pos = 'n'\n",
    "        elif tag.startswith('VB'):\n",
    "            pos = 'v'\n",
    "        else:\n",
    "            pos = 'a'\n",
    "        lemmatized.append(l.lemmatize(word, pos))\n",
    "    return lemmatized"
   ]
  },
  {
   "cell_type": "code",
   "execution_count": null,
   "metadata": {},
   "outputs": [],
   "source": [
    "positive_clean = []\n",
    "negative_clean = []\n",
    "\n",
    "for token in positive_tokens:\n",
    "    positive_clean.append(clean(token))\n",
    "\n",
    "for token in negative_tokens:\n",
    "    negative_clean.append(clean(token))\n",
    "\n",
    "def final_token_generator(tokens):\n",
    "    for tokens in tokens:\n",
    "        yield dict([token, True] for token in tokens)\n",
    "\n",
    "positive_model_tokens = final_token_generator(positive_clean)\n",
    "negative_model_tokens = final_token_generator(negative_clean)"
   ]
  },
  {
   "cell_type": "code",
   "execution_count": null,
   "metadata": {},
   "outputs": [],
   "source": [
    "positive_dataset = [(token, \"Positive\") for token in positive_model_tokens]\n",
    "negative_dataset = [(token, \"Negative\") for token in negative_model_tokens]\n",
    "\n",
    "dataset = positive_dataset + negative_dataset\n",
    "\n",
    "random.shuffle(dataset)\n",
    "random.shuffle(dataset)\n",
    "random.shuffle(dataset)\n",
    "\n",
    "training = dataset[:7000]\n",
    "testing = dataset[7000:]\n",
    "\n",
    "classifier = NaiveBayesClassifier.train(training)\n",
    "\n",
    "print(\"Accuracy:\", classify.accuracy(classifier, testing))\n",
    "print(classifier.show_most_informative_features(10))"
   ]
  },
  {
   "cell_type": "code",
   "execution_count": null,
   "metadata": {},
   "outputs": [],
   "source": [
    "def analyze(input):\n",
    "    custom_tokens = clean(word_tokenize(input))\n",
    "    return classifier.classify(dict([token, True] for token in custom_tokens))"
   ]
  },
  {
   "cell_type": "code",
   "execution_count": null,
   "metadata": {},
   "outputs": [],
   "source": [
    "phrase = \"nice to meet you\"\n",
    "print(f\"{phrase}:\\nthe phrase is ->{analyze(phrase)}\")"
   ]
  }
 ]
}